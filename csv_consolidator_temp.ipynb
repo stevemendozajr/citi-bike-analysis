{
 "cells": [
  {
   "cell_type": "code",
   "execution_count": 20,
   "metadata": {},
   "outputs": [],
   "source": [
    "import pandas as pd\n",
    "import glob\n",
    "import shutil"
   ]
  },
  {
   "cell_type": "code",
   "execution_count": 21,
   "metadata": {},
   "outputs": [
    {
     "name": "stdout",
     "output_type": "stream",
     "text": [
      "/Users/Steve/pystuff/LearnPython/TableauStuff/TableauHomework/TripDataJC2017/JC-201701-citibike-tripdata.csv has been imported.\n",
      "/Users/Steve/pystuff/LearnPython/TableauStuff/TableauHomework/TripDataJC2017/JC-201709-citibike-tripdata.csv has been imported.\n",
      "/Users/Steve/pystuff/LearnPython/TableauStuff/TableauHomework/TripDataJC2017/JC-201703-citibike-tripdata.csv has been imported.\n",
      "/Users/Steve/pystuff/LearnPython/TableauStuff/TableauHomework/TripDataJC2017/JC-201708 citibike-tripdata.csv has been imported.\n",
      "/Users/Steve/pystuff/LearnPython/TableauStuff/TableauHomework/TripDataJC2017/JC-201705-citibike-tripdata.csv has been imported.\n",
      "/Users/Steve/pystuff/LearnPython/TableauStuff/TableauHomework/TripDataJC2017/JC-201707-citibike-tripdata.csv has been imported.\n",
      "/Users/Steve/pystuff/LearnPython/TableauStuff/TableauHomework/TripDataJC2017/JC-201711-citibike-tripdata.csv has been imported.\n",
      "/Users/Steve/pystuff/LearnPython/TableauStuff/TableauHomework/TripDataJC2017/JC-201702-citibike-tripdata.csv has been imported.\n",
      "/Users/Steve/pystuff/LearnPython/TableauStuff/TableauHomework/TripDataJC2017/JC-201712-citibike-tripdata.csv has been imported.\n",
      "/Users/Steve/pystuff/LearnPython/TableauStuff/TableauHomework/TripDataJC2017/JC-201704-citibike-tripdata.csv has been imported.\n",
      "/Users/Steve/pystuff/LearnPython/TableauStuff/TableauHomework/TripDataJC2017/JC-201710-citibike-tripdata.csv has been imported.\n",
      "/Users/Steve/pystuff/LearnPython/TableauStuff/TableauHomework/TripDataJC2017/JC-201706-citibike-tripdata.csv has been imported.\n"
     ]
    }
   ],
   "source": [
    "#path =r'/Users/shekhar/Desktop/Bootcamp/Revision/Homework/Tableau/Resources' # use your path\n",
    "#allFiles = glob.glob(path + \"/*.csv\")\n",
    "\n",
    "#list_ = []\n",
    "\n",
    "#for file_ in allFiles:\n",
    "#    df = pd.read_csv(file_,index_col=None, header=0)\n",
    "#    list_.append(df)\n",
    "\n",
    "#frame = pd.concat(list_, axis = 0, ignore_index = True)\n",
    "#frame.head()\n",
    "\n",
    "\n",
    "import shutil\n",
    "#import csv files from folder\n",
    "path = r'/Users/Steve/pystuff/LearnPython/TableauStuff/TableauHomework/TripDataJC2017'\n",
    "allFiles = glob.glob(path + \"/*.csv\")\n",
    "with open('/Users/Steve/pystuff/LearnPython/TableauStuff/TableauHomework/TripDataJC2017/output_tripdata_jc_2017.csv', 'wb') as outfile:\n",
    "    for i, fname in enumerate(allFiles):\n",
    "        with open(fname, 'rb') as infile:\n",
    "            if i != 0:\n",
    "                infile.readline()  # Throw away header on all but first file\n",
    "            # Block copy rest of file from input to output without parsing\n",
    "            shutil.copyfileobj(infile, outfile)\n",
    "            print(fname + \" has been imported.\")\n",
    "\n"
   ]
  },
  {
   "cell_type": "code",
   "execution_count": 22,
   "metadata": {},
   "outputs": [
    {
     "data": {
      "text/html": [
       "<div>\n",
       "<style scoped>\n",
       "    .dataframe tbody tr th:only-of-type {\n",
       "        vertical-align: middle;\n",
       "    }\n",
       "\n",
       "    .dataframe tbody tr th {\n",
       "        vertical-align: top;\n",
       "    }\n",
       "\n",
       "    .dataframe thead th {\n",
       "        text-align: right;\n",
       "    }\n",
       "</style>\n",
       "<table border=\"1\" class=\"dataframe\">\n",
       "  <thead>\n",
       "    <tr style=\"text-align: right;\">\n",
       "      <th></th>\n",
       "      <th>Trip Duration</th>\n",
       "      <th>Start Time</th>\n",
       "      <th>Stop Time</th>\n",
       "      <th>Start Station ID</th>\n",
       "      <th>Start Station Name</th>\n",
       "      <th>Start Station Latitude</th>\n",
       "      <th>Start Station Longitude</th>\n",
       "      <th>End Station ID</th>\n",
       "      <th>End Station Name</th>\n",
       "      <th>End Station Latitude</th>\n",
       "      <th>End Station Longitude</th>\n",
       "      <th>Bike ID</th>\n",
       "      <th>User Type</th>\n",
       "      <th>Birth Year</th>\n",
       "      <th>Gender</th>\n",
       "    </tr>\n",
       "  </thead>\n",
       "  <tbody>\n",
       "    <tr>\n",
       "      <th>0</th>\n",
       "      <td>148</td>\n",
       "      <td>2017-01-01 00:21:32</td>\n",
       "      <td>2017-01-01 00:24:01</td>\n",
       "      <td>3276</td>\n",
       "      <td>Marin Light Rail</td>\n",
       "      <td>40.714584</td>\n",
       "      <td>-74.042817</td>\n",
       "      <td>3185</td>\n",
       "      <td>City Hall</td>\n",
       "      <td>40.717733</td>\n",
       "      <td>-74.043845</td>\n",
       "      <td>24575</td>\n",
       "      <td>Subscriber</td>\n",
       "      <td>1983.0</td>\n",
       "      <td>1</td>\n",
       "    </tr>\n",
       "    <tr>\n",
       "      <th>1</th>\n",
       "      <td>1283</td>\n",
       "      <td>2017-01-01 00:24:35</td>\n",
       "      <td>2017-01-01 00:45:58</td>\n",
       "      <td>3183</td>\n",
       "      <td>Exchange Place</td>\n",
       "      <td>40.716247</td>\n",
       "      <td>-74.033459</td>\n",
       "      <td>3198</td>\n",
       "      <td>Heights Elevator</td>\n",
       "      <td>40.748716</td>\n",
       "      <td>-74.040443</td>\n",
       "      <td>24723</td>\n",
       "      <td>Subscriber</td>\n",
       "      <td>1978.0</td>\n",
       "      <td>1</td>\n",
       "    </tr>\n",
       "    <tr>\n",
       "      <th>2</th>\n",
       "      <td>372</td>\n",
       "      <td>2017-01-01 00:38:19</td>\n",
       "      <td>2017-01-01 00:44:31</td>\n",
       "      <td>3183</td>\n",
       "      <td>Exchange Place</td>\n",
       "      <td>40.716247</td>\n",
       "      <td>-74.033459</td>\n",
       "      <td>3211</td>\n",
       "      <td>Newark Ave</td>\n",
       "      <td>40.721525</td>\n",
       "      <td>-74.046305</td>\n",
       "      <td>24620</td>\n",
       "      <td>Subscriber</td>\n",
       "      <td>1989.0</td>\n",
       "      <td>1</td>\n",
       "    </tr>\n",
       "    <tr>\n",
       "      <th>3</th>\n",
       "      <td>1513</td>\n",
       "      <td>2017-01-01 00:38:37</td>\n",
       "      <td>2017-01-01 01:03:50</td>\n",
       "      <td>3194</td>\n",
       "      <td>McGinley Square</td>\n",
       "      <td>40.725340</td>\n",
       "      <td>-74.067622</td>\n",
       "      <td>3271</td>\n",
       "      <td>Danforth Light Rail</td>\n",
       "      <td>40.692640</td>\n",
       "      <td>-74.088012</td>\n",
       "      <td>24668</td>\n",
       "      <td>Subscriber</td>\n",
       "      <td>1961.0</td>\n",
       "      <td>1</td>\n",
       "    </tr>\n",
       "    <tr>\n",
       "      <th>4</th>\n",
       "      <td>639</td>\n",
       "      <td>2017-01-01 01:47:52</td>\n",
       "      <td>2017-01-01 01:58:31</td>\n",
       "      <td>3183</td>\n",
       "      <td>Exchange Place</td>\n",
       "      <td>40.716247</td>\n",
       "      <td>-74.033459</td>\n",
       "      <td>3203</td>\n",
       "      <td>Hamilton Park</td>\n",
       "      <td>40.727596</td>\n",
       "      <td>-74.044247</td>\n",
       "      <td>26167</td>\n",
       "      <td>Subscriber</td>\n",
       "      <td>1993.0</td>\n",
       "      <td>1</td>\n",
       "    </tr>\n",
       "  </tbody>\n",
       "</table>\n",
       "</div>"
      ],
      "text/plain": [
       "   Trip Duration           Start Time            Stop Time  Start Station ID  \\\n",
       "0            148  2017-01-01 00:21:32  2017-01-01 00:24:01              3276   \n",
       "1           1283  2017-01-01 00:24:35  2017-01-01 00:45:58              3183   \n",
       "2            372  2017-01-01 00:38:19  2017-01-01 00:44:31              3183   \n",
       "3           1513  2017-01-01 00:38:37  2017-01-01 01:03:50              3194   \n",
       "4            639  2017-01-01 01:47:52  2017-01-01 01:58:31              3183   \n",
       "\n",
       "  Start Station Name  Start Station Latitude  Start Station Longitude  \\\n",
       "0   Marin Light Rail               40.714584               -74.042817   \n",
       "1     Exchange Place               40.716247               -74.033459   \n",
       "2     Exchange Place               40.716247               -74.033459   \n",
       "3    McGinley Square               40.725340               -74.067622   \n",
       "4     Exchange Place               40.716247               -74.033459   \n",
       "\n",
       "   End Station ID     End Station Name  End Station Latitude  \\\n",
       "0            3185            City Hall             40.717733   \n",
       "1            3198     Heights Elevator             40.748716   \n",
       "2            3211           Newark Ave             40.721525   \n",
       "3            3271  Danforth Light Rail             40.692640   \n",
       "4            3203        Hamilton Park             40.727596   \n",
       "\n",
       "   End Station Longitude  Bike ID   User Type  Birth Year  Gender  \n",
       "0             -74.043845    24575  Subscriber      1983.0       1  \n",
       "1             -74.040443    24723  Subscriber      1978.0       1  \n",
       "2             -74.046305    24620  Subscriber      1989.0       1  \n",
       "3             -74.088012    24668  Subscriber      1961.0       1  \n",
       "4             -74.044247    26167  Subscriber      1993.0       1  "
      ]
     },
     "execution_count": 22,
     "metadata": {},
     "output_type": "execute_result"
    }
   ],
   "source": [
    "df = pd.read_csv('/Users/Steve/pystuff/LearnPython/TableauStuff/TableauHomework/TripDataJC2017/output_tripdata_jc_2017.csv',error_bad_lines=False)\n",
    "df.head()"
   ]
  },
  {
   "cell_type": "code",
   "execution_count": 23,
   "metadata": {},
   "outputs": [
    {
     "data": {
      "text/plain": [
       "Trip Duration              294928\n",
       "Start Time                 294928\n",
       "Stop Time                  294928\n",
       "Start Station ID           294928\n",
       "Start Station Name         294928\n",
       "Start Station Latitude     294928\n",
       "Start Station Longitude    294928\n",
       "End Station ID             294928\n",
       "End Station Name           294928\n",
       "End Station Latitude       294928\n",
       "End Station Longitude      294928\n",
       "Bike ID                    294928\n",
       "User Type                  294811\n",
       "Birth Year                 275313\n",
       "Gender                     294928\n",
       "dtype: int64"
      ]
     },
     "execution_count": 23,
     "metadata": {},
     "output_type": "execute_result"
    }
   ],
   "source": [
    "df.count()"
   ]
  },
  {
   "cell_type": "code",
   "execution_count": 24,
   "metadata": {},
   "outputs": [],
   "source": [
    "df_no_missing = df.dropna()"
   ]
  },
  {
   "cell_type": "code",
   "execution_count": 25,
   "metadata": {},
   "outputs": [
    {
     "data": {
      "text/plain": [
       "Trip Duration              275196\n",
       "Start Time                 275196\n",
       "Stop Time                  275196\n",
       "Start Station ID           275196\n",
       "Start Station Name         275196\n",
       "Start Station Latitude     275196\n",
       "Start Station Longitude    275196\n",
       "End Station ID             275196\n",
       "End Station Name           275196\n",
       "End Station Latitude       275196\n",
       "End Station Longitude      275196\n",
       "Bike ID                    275196\n",
       "User Type                  275196\n",
       "Birth Year                 275196\n",
       "Gender                     275196\n",
       "dtype: int64"
      ]
     },
     "execution_count": 25,
     "metadata": {},
     "output_type": "execute_result"
    }
   ],
   "source": [
    "df_no_missing.count()"
   ]
  },
  {
   "cell_type": "code",
   "execution_count": 15,
   "metadata": {},
   "outputs": [],
   "source": [
    "df_no_missing.to_csv('/Users/Steve/pystuff/LearnPython/TableauStuff/TableauHomework/TripDataJC2017/output_tripdata_jc_2017_missings_removed.csv',index=False,header=True)"
   ]
  },
  {
   "cell_type": "code",
   "execution_count": 8,
   "metadata": {},
   "outputs": [
    {
     "name": "stdout",
     "output_type": "stream",
     "text": [
      "Hello\n"
     ]
    }
   ],
   "source": [
    "print(\"Hello\")"
   ]
  },
  {
   "cell_type": "code",
   "execution_count": null,
   "metadata": {},
   "outputs": [],
   "source": []
  }
 ],
 "metadata": {
  "kernelspec": {
   "display_name": "Python 3",
   "language": "python",
   "name": "python3"
  },
  "language_info": {
   "codemirror_mode": {
    "name": "ipython",
    "version": 3
   },
   "file_extension": ".py",
   "mimetype": "text/x-python",
   "name": "python",
   "nbconvert_exporter": "python",
   "pygments_lexer": "ipython3",
   "version": "3.6.5"
  }
 },
 "nbformat": 4,
 "nbformat_minor": 2
}
